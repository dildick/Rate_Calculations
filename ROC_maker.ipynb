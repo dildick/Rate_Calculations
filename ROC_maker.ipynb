{
 "cells": [
  {
   "cell_type": "code",
   "execution_count": 1,
   "metadata": {},
   "outputs": [
    {
     "name": "stdout",
     "output_type": "stream",
     "text": [
      "Welcome to JupyROOT 6.14/09\n"
     ]
    },
    {
     "data": {
      "text/html": [
       "<style>.container { width:100% !important; }</style>"
      ],
      "text/plain": [
       "<IPython.core.display.HTML object>"
      ]
     },
     "metadata": {},
     "output_type": "display_data"
    }
   ],
   "source": [
    "import pandas as pd\n",
    "import numpy as np\n",
    "import uproot\n",
    "import matplotlib\n",
    "from matplotlib import pyplot as plt\n",
    "from __future__ import division\n",
    "from tqdm import tqdm\n",
    "import ROOT as rt\n",
    "from array import array\n",
    "from IPython.display import Image\n",
    "import CMS_lumi, tdrstyle\n",
    "\n",
    "from IPython.core.display import display, HTML\n",
    "display(HTML(\"<style>.container { width:100% !important; }</style>\"))"
   ]
  },
  {
   "cell_type": "code",
   "execution_count": 2,
   "metadata": {},
   "outputs": [
    {
     "name": "stdout",
     "output_type": "stream",
     "text": [
      "Opening input files\n",
      "Opening file:  trees/MaxDigis_tree_HTo2LongLivedTo4b_MH-125_MFF-25_CTau-15000mm_TuneCP5_14TeV_pythia8.root\n",
      "Opening file:  trees/MaxDigis_tree_HTo2LongLivedTo4b_MH-125_MFF-25_CTau-1500mm_TuneCP5_14TeV_pythia8.root\n",
      "Opening file:  trees/MaxDigis_tree_HTo2LongLivedTo4b_MH-125_MFF-12_CTau-9000mm_TuneCP5_14TeV_pythia8.root\n",
      "Opening file:  trees/MaxDigis_tree_HTo2LongLivedTo4b_MH-125_MFF-12_CTau-900mm_TuneCP5_14TeV_pythia8.root\n",
      "Opening file:  trees/MaxDigis_tree_HTo2LongLivedTo4b_MH-125_MFF-50_CTau-30000mm_TuneCP5_14TeV_pythia8.root\n",
      "Opening file:  trees/MaxDigis_tree_HTo2LongLivedTo4b_MH-125_MFF-50_CTau-3000mm_TuneCP5_14TeV_pythia8.root\n",
      "Opening file:  trees/MaxDigis_tree_HTo2LongLivedTo4b_MH-250_MFF-120_CTau-10000mm_TuneCP5_14TeV_pythia8.root\n",
      "Opening file:  trees/MaxDigis_tree_HTo2LongLivedTo4b_MH-250_MFF-120_CTau-1000mm_TuneCP5_14TeV_pythia8.root\n",
      "Opening file:  trees/MaxDigis_tree_HTo2LongLivedTo4b_MH-250_MFF-120_CTau-500mm_TuneCP5_14TeV_pythia8.root\n",
      "Opening file:  trees/MaxDigis_tree_HTo2LongLivedTo4b_MH-250_MFF-60_CTau-10000mm_TuneCP5_14TeV_pythia8.root\n",
      "Opening file:  trees/MaxDigis_tree_HTo2LongLivedTo4b_MH-250_MFF-60_CTau-500mm_TuneCP5_14TeV_pythia8.root\n",
      "Opening file:  trees/MaxDigis_tree_HTo2LongLivedTo4b_MH-350_MFF-160_CTau-10000mm_TuneCP5_14TeV_pythia8.root\n",
      "Opening file:  trees/MaxDigis_tree_HTo2LongLivedTo4b_MH-350_MFF-160_CTau-1000mm_TuneCP5_14TeV_pythia8.root\n",
      "Opening file:  trees/MaxDigis_tree_HTo2LongLivedTo4b_MH-350_MFF-160_CTau-500mm_TuneCP5_14TeV_pythia8.root\n",
      "Opening file:  trees/MaxDigis_tree_HTo2LongLivedTo4b_MH-350_MFF-80_CTau-10000mm_TuneCP5_14TeV_pythia8.root\n",
      "Opening file:  trees/MaxDigis_tree_HTo2LongLivedTo4b_MH-350_MFF-80_CTau-1000mm_TuneCP5_14TeV_pythia8.root\n",
      "Opening file:  trees/MaxDigis_tree_HTo2LongLivedTo4b_MH-350_MFF-80_CTau-500mm_TuneCP5_14TeV_pythia8.root\n",
      "Opening file:  trees/MaxDigis_tree_HTo2LongLivedTo4b_MH-1000_MFF-450_CTau-100000mm_TuneCP5_14TeV_pythia8.root\n",
      "Opening file:  trees/MaxDigis_tree_HTo2LongLivedTo4b_MH-1000_MFF-450_CTau-10000mm_TuneCP5_14TeV_pythia8.root\n",
      "Opening file:  trees/MaxDigis_tree_HTo2LongLivedTo4q_MH_125_MFF_1_CTau_10000mm_TuneCP5_14TeV_pythia8.root\n",
      "Opening file:  trees/MaxDigis_tree_HTo2LongLivedTo4q_MH_125_MFF_1_CTau_5000mm_TuneCP5_14TeV_pythia8.root\n",
      "Opening file:  trees/MaxDigis_tree_Data.root\n",
      "Number of bkg events: 3155546\n",
      "Number of sig events: 70160\n"
     ]
    }
   ],
   "source": [
    "in_dir = 'trees/'#box_selected/'\n",
    "\n",
    "input_bkg = [#'trees/MaxDigis_tree_Neutrino_gun.root',\n",
    "             'trees/MaxDigis_tree_Data.root',\n",
    "             #'trees/MaxDigis_tree_Data_pre-selected.root',\n",
    "            ]\n",
    "#first_sig = [in_dir+'MaxDigis_tree_HTo2LongLivedTo4b_MH-125_MFF-25_CTau-1500mm_TuneCP5_14TeV_pythia8.root']\n",
    "#first_sig = [in_dir+'MaxDigis_tree_HTo2LongLivedTo4q_MH_125_MFF_1_CTau_5000mm_TuneCP5_14TeV_pythia.root']\n",
    "#first_sig = [\n",
    "input_sig = [\n",
    "              in_dir+'MaxDigis_tree_HTo2LongLivedTo4b_MH-125_MFF-25_CTau-15000mm_TuneCP5_14TeV_pythia8.root',\n",
    "              in_dir+'MaxDigis_tree_HTo2LongLivedTo4b_MH-125_MFF-25_CTau-1500mm_TuneCP5_14TeV_pythia8.root',\n",
    "              in_dir+'MaxDigis_tree_HTo2LongLivedTo4b_MH-125_MFF-12_CTau-9000mm_TuneCP5_14TeV_pythia8.root',\n",
    "              in_dir+'MaxDigis_tree_HTo2LongLivedTo4b_MH-125_MFF-12_CTau-900mm_TuneCP5_14TeV_pythia8.root',\n",
    "              in_dir+'MaxDigis_tree_HTo2LongLivedTo4b_MH-125_MFF-50_CTau-30000mm_TuneCP5_14TeV_pythia8.root',\n",
    "              in_dir+'MaxDigis_tree_HTo2LongLivedTo4b_MH-125_MFF-50_CTau-3000mm_TuneCP5_14TeV_pythia8.root',\n",
    "              in_dir+'MaxDigis_tree_HTo2LongLivedTo4b_MH-250_MFF-120_CTau-10000mm_TuneCP5_14TeV_pythia8.root',\n",
    "              in_dir+'MaxDigis_tree_HTo2LongLivedTo4b_MH-250_MFF-120_CTau-1000mm_TuneCP5_14TeV_pythia8.root',\n",
    "              in_dir+'MaxDigis_tree_HTo2LongLivedTo4b_MH-250_MFF-120_CTau-500mm_TuneCP5_14TeV_pythia8.root',\n",
    "              in_dir+'MaxDigis_tree_HTo2LongLivedTo4b_MH-250_MFF-60_CTau-10000mm_TuneCP5_14TeV_pythia8.root',\n",
    "              in_dir+'MaxDigis_tree_HTo2LongLivedTo4b_MH-250_MFF-60_CTau-500mm_TuneCP5_14TeV_pythia8.root',\n",
    "              in_dir+'MaxDigis_tree_HTo2LongLivedTo4b_MH-350_MFF-160_CTau-10000mm_TuneCP5_14TeV_pythia8.root',\n",
    "              in_dir+'MaxDigis_tree_HTo2LongLivedTo4b_MH-350_MFF-160_CTau-1000mm_TuneCP5_14TeV_pythia8.root',\n",
    "              in_dir+'MaxDigis_tree_HTo2LongLivedTo4b_MH-350_MFF-160_CTau-500mm_TuneCP5_14TeV_pythia8.root',\n",
    "              in_dir+'MaxDigis_tree_HTo2LongLivedTo4b_MH-350_MFF-80_CTau-10000mm_TuneCP5_14TeV_pythia8.root',\n",
    "              in_dir+'MaxDigis_tree_HTo2LongLivedTo4b_MH-350_MFF-80_CTau-1000mm_TuneCP5_14TeV_pythia8.root',\n",
    "              in_dir+'MaxDigis_tree_HTo2LongLivedTo4b_MH-350_MFF-80_CTau-500mm_TuneCP5_14TeV_pythia8.root',\n",
    "              in_dir+'MaxDigis_tree_HTo2LongLivedTo4b_MH-1000_MFF-450_CTau-100000mm_TuneCP5_14TeV_pythia8.root',\n",
    "              in_dir+'MaxDigis_tree_HTo2LongLivedTo4b_MH-1000_MFF-450_CTau-10000mm_TuneCP5_14TeV_pythia8.root',\n",
    "              in_dir+'MaxDigis_tree_HTo2LongLivedTo4q_MH_125_MFF_1_CTau_10000mm_TuneCP5_14TeV_pythia8.root',\n",
    "              in_dir+'MaxDigis_tree_HTo2LongLivedTo4q_MH_125_MFF_1_CTau_5000mm_TuneCP5_14TeV_pythia8.root',\n",
    "             ]\n",
    "#            ]\n",
    "#input_sig = []\n",
    "comp_treename = 'comparator'\n",
    "wire_treename = 'wire'\n",
    "\n",
    "comp_var = [ 'Ev_max_nComp_ME11','Ev_max_nComp_ME12','Ev_max_nComp_ME13','Ev_max_nComp_ME21','Ev_max_nComp_ME22',\n",
    "             'Ev_max_nComp_ME31','Ev_max_nComp_ME32','Ev_max_nComp_ME41','Ev_max_nComp_ME42']\n",
    "wire_var = [ 'Ev_max_nWire_ME11','Ev_max_nWire_ME12','Ev_max_nWire_ME13','Ev_max_nWire_ME21','Ev_max_nWire_ME22',\n",
    "             'Ev_max_nWire_ME31','Ev_max_nWire_ME32','Ev_max_nWire_ME41','Ev_max_nWire_ME42']\n",
    "\n",
    "#all_vars = [ 'Ev_nComp_ME11','Ev_nComp_ME12']\n",
    "\n",
    "comp_vars = list(set(comp_var))\n",
    "wire_vars = list(set(wire_var))\n",
    "\n",
    "arrs_comp_sig = [None]*(len(input_sig)+1)\n",
    "arrs_wire_sig = [None]*(len(input_sig)+1)\n",
    "\n",
    "print \"Opening input files\"\n",
    "\n",
    "print \"Opening file: \", input_sig[0]\n",
    "arrs_comp_sig[0] = uproot.open(input_sig[0])[comp_treename]\n",
    "arrs_wire_sig[0] = uproot.open(input_sig[0])[wire_treename]\n",
    "comp_sig = arrs_comp_sig[0].pandas.df(comp_vars)\n",
    "wire_sig = arrs_wire_sig[0].pandas.df(wire_vars)\n",
    "#print \"Comp num events = %i\" % (len(comp_sig.index))\n",
    "#print \"Wire num events = %i\" % (len(wire_sig.index))\n",
    "\n",
    "j=1\n",
    "for i in range(1,len(input_sig)):\n",
    "    print \"Opening file: \", input_sig[i]\n",
    "    arrs_comp_sig[j] = uproot.open(input_sig[i])[comp_treename]\n",
    "    arrs_wire_sig[j] = uproot.open(input_sig[i])[wire_treename]\n",
    "    temp_comp_sig = arrs_comp_sig[i].pandas.df(comp_vars)\n",
    "    temp_wire_sig = arrs_wire_sig[i].pandas.df(wire_vars)\n",
    "    #print \"Comp num events = %i\" % (len(temp_comp_sig.index))\n",
    "    #print \"Wire num events = %i\" % (len(temp_wire_sig.index))\n",
    "    comp_sig = comp_sig.append(temp_comp_sig)\n",
    "    wire_sig = wire_sig.append(temp_wire_sig)\n",
    "    j=j+1\n",
    "\n",
    "\n",
    "print \"Opening file: \", input_bkg[0]\n",
    "arrs_comp_bkg = uproot.open(input_bkg[0])[comp_treename]\n",
    "arrs_wire_bkg = uproot.open(input_bkg[0])[wire_treename]\n",
    "comp_bkg = arrs_comp_bkg.pandas.df(comp_vars)\n",
    "wire_bkg = arrs_wire_bkg.pandas.df(wire_vars)\n",
    "print \"Number of bkg events: %i\" % (len(wire_bkg))\n",
    "print \"Number of sig events: %i\" % (len(wire_sig))"
   ]
  },
  {
   "cell_type": "markdown",
   "metadata": {},
   "source": [
    "# Declare General Variables"
   ]
  },
  {
   "cell_type": "code",
   "execution_count": 3,
   "metadata": {},
   "outputs": [],
   "source": [
    "min_=0\n",
    "max_=150\n",
    "it_=1\n",
    "\n",
    "r1=2\n",
    "r2=3\n",
    "\n",
    "l1=.12\n",
    "l2=.2\n",
    "\n",
    "plt_comp_max = 10"
   ]
  },
  {
   "cell_type": "code",
   "execution_count": 4,
   "metadata": {},
   "outputs": [],
   "source": [
    "#set the tdr style\n",
    "tdrstyle.setTDRStyle()\n",
    "\n",
    "#change the CMS_lumi variables (see CMS_lumi.py)\n",
    "CMS_lumi.lumi_7TeV = \"4.8 fb^{-1}\"\n",
    "CMS_lumi.lumi_8TeV = \"18.3 fb^{-1}\"\n",
    "CMS_lumi.writeExtraText = 1\n",
    "CMS_lumi.extraText = \"Preliminary\"\n",
    "CMS_lumi.lumi_sqrtS = \"31.95 fb^{-1} (13 TeV)\" # used with iPeriod = 0, e.g. for simulation-only plots (default is an empty string\n",
    "\n",
    "iPos = 0\n",
    "if( iPos==0 ): CMS_lumi.relPosX = 0.12\n",
    "iPeriod = 0"
   ]
  },
  {
   "cell_type": "code",
   "execution_count": 5,
   "metadata": {},
   "outputs": [],
   "source": [
    "def Make_ROC(rate,eff,fileout,xlim,ylim):\n",
    "    splits = fileout.split(\"_\")\n",
    "    if splits[0] == \"comp\": cham_type = \"Cathode, \"\n",
    "    else: cham_type = \"Anode, \"\n",
    "    sector = splits[1][:-1] + \"/\" + splits[1][-1]\n",
    "        \n",
    "    x0 = 0.12\n",
    "    y0 = 0.87\n",
    "    x1 = 0.40\n",
    "    y1 = 0.91\n",
    "    \n",
    "    gr = rt.TGraph(150,rate,eff)\n",
    "    \n",
    "    H_ref = 600; \n",
    "    W_ref = 800; \n",
    "    W = W_ref\n",
    "    H  = H_ref\n",
    "\n",
    "    # references for T, B, L, R\n",
    "    T = 0.08*H_ref\n",
    "    B = 0.12*H_ref \n",
    "    L = 0.12*W_ref\n",
    "    R = 0.04*W_ref\n",
    "    \n",
    "    canvas = rt.TCanvas(\"c2\",\"c2\",50,50,W,H)\n",
    "    canvas.SetFillColor(0)\n",
    "    canvas.SetBorderMode(0)\n",
    "    canvas.SetFrameFillStyle(0)\n",
    "    canvas.SetFrameBorderMode(0)\n",
    "    canvas.SetLeftMargin( L/W )\n",
    "    canvas.SetRightMargin( R/W )\n",
    "    canvas.SetTopMargin( T/H )\n",
    "    canvas.SetBottomMargin( B/H )\n",
    "    canvas.SetTickx(0)\n",
    "    canvas.SetTicky(0)\n",
    "    \n",
    "    axisX = gr.GetXaxis()\n",
    "    axisY = gr.GetYaxis()\n",
    "    axisX.SetLimits(0,xlim)\n",
    "    axisY.SetRangeUser(0,ylim)\n",
    "    \n",
    "    axisX.SetNdivisions(6,5,0)\n",
    "    axisY.SetNdivisions(6,5,0)\n",
    "    axisY.SetTitleOffset(1)\n",
    "    \n",
    "    gr.SetTitle(fileout+\";Trigger Rate [kHz];Efficiency\")\n",
    "    \n",
    "    gr.SetMarkerStyle(20)\n",
    "    gr.Draw(\"AP\")\n",
    "    canvas.Update()\n",
    "    \n",
    "    pad = rt.TPad(\"pad\",\"pad\",x0,y0,x1,y1)\n",
    "    pad.Draw()\n",
    "    pad.cd()\n",
    "    \n",
    "    latex = rt.TLatex()\n",
    "    \n",
    "    latex.SetTextFont(42)\n",
    "    latex.SetTextAngle(0)\n",
    "    latex.SetTextColor(rt.kBlack)    \n",
    "    latex.SetTextSize(1)    \n",
    "    latex.SetTextAlign(13) \n",
    "    \n",
    "    latex.DrawLatex(x0,y0,cham_type+sector)\n",
    "    canvas.Update()\n",
    "    \n",
    "    CMS_lumi.CMS_lumi(canvas, iPeriod, iPos)\n",
    "    canvas.cd()\n",
    "    canvas.Update()\n",
    "    canvas.RedrawAxis()\n",
    "    frame = canvas.GetFrame()\n",
    "    frame.Draw()\n",
    "    \n",
    "    #Save Plot\n",
    "    canvas.SaveAs(\"ROC_Curves/pdf/\"+fileout+\"_prelim.pdf\")\n",
    "    \n",
    "    pad.Delete()\n",
    "    \n",
    "    "
   ]
  },
  {
   "cell_type": "markdown",
   "metadata": {},
   "source": [
    "# Comparator"
   ]
  },
  {
   "cell_type": "code",
   "execution_count": 6,
   "metadata": {},
   "outputs": [
    {
     "name": "stderr",
     "output_type": "stream",
     "text": [
      "100%|██████████| 150/150 [00:02<00:00, 63.72it/s]\n"
     ]
    },
    {
     "name": "stdout",
     "output_type": "stream",
     "text": [
      "Best threshold > 97\n",
      "rate = 0.00966956205586 kHz and efficiency = 0.174086757991 % for threshold > 97\n"
     ]
    },
    {
     "name": "stderr",
     "output_type": "stream",
     "text": [
      "Info in <TCanvas::Print>: pdf file ROC_Curves/pdf/comp_ME11_prelim.pdf has been created\n"
     ]
    }
   ],
   "source": [
    "comp_efficiency=array('d')\n",
    "comp_sig_tot = len(comp_sig)\n",
    "comp_rate=array('d')\n",
    "comp_bkg_tot = len(comp_bkg)\n",
    "comp_limits=[0]\n",
    "best = 0.0\n",
    "best_cut = 150\n",
    "\n",
    "for limit in tqdm(xrange(min_,max_,it_)):\n",
    "    comp_efficiency.append(len(comp_sig[(comp_sig['Ev_max_nComp_ME11'] > limit)])/comp_sig_tot*100)\n",
    "    \n",
    "    comp_rate.append(len(comp_bkg[(comp_bkg['Ev_max_nComp_ME11'] > limit)])/comp_bkg_tot*30*1000)\n",
    "    \n",
    "    comp_limits.append(limit)\n",
    "    \n",
    "# plt.plot(comp_rate,comp_efficiency,'bo')\n",
    "# plt.xlim(0,.02)\n",
    "# plt.ylim(0,.2)\n",
    "# plt.xlabel('Rate (kHz)')\n",
    "# plt.ylabel('Efficiency (%)')\n",
    "# plt.title('Comparator ROC Curve for ME11')\n",
    "\n",
    "Make_ROC(comp_rate,comp_efficiency,\"comp_ME11\",0.02,0.2)\n",
    "\n",
    "for i in range(len(comp_rate)):\n",
    "    if comp_rate[i] > 0 and comp_rate[i] < 0.02:\n",
    "    #if comp_rate[i] > 0:\n",
    "        #print 'rate =', comp_rate[i], 'kHz and efficiency =', comp_efficiency[i], '% for threshold >', comp_limits[i]\n",
    "        if np.power(comp_efficiency[i],r1)/np.sqrt(comp_rate[i]) > best:\n",
    "            best = np.power(comp_efficiency[i],r1)/np.sqrt(comp_rate[i])\n",
    "            best_cut = comp_limits[i]\n",
    "        \n",
    "print \"Best threshold > %i\" %(best_cut)\n",
    "print 'rate =', comp_rate[best_cut+1], 'kHz and efficiency =', comp_efficiency[best_cut+1], '% for threshold >', comp_limits[best_cut+1]\n",
    "comp11 = best_cut\n",
    "#Image(filename='ROC_Curves/pdf/comp_ME11.pdf')"
   ]
  },
  {
   "cell_type": "code",
   "execution_count": 7,
   "metadata": {},
   "outputs": [
    {
     "name": "stderr",
     "output_type": "stream",
     "text": [
      "100%|██████████| 150/150 [00:00<00:00, 195.42it/s]"
     ]
    },
    {
     "name": "stdout",
     "output_type": "stream",
     "text": [
      "Best threshold > 55\n",
      "rate = 0.193391241117 kHz and efficiency = 5.54366438356 % for threshold > 55\n"
     ]
    },
    {
     "name": "stderr",
     "output_type": "stream",
     "text": [
      "\n",
      "Info in <TCanvas::Print>: pdf file ROC_Curves/pdf/comp_ME12_prelim.pdf has been created\n"
     ]
    }
   ],
   "source": [
    "comp_efficiency=array('d')\n",
    "comp_sig_tot = len(comp_sig)\n",
    "comp_rate=array('d')\n",
    "comp_bkg_tot = len(comp_bkg)\n",
    "comp_limits=[0]\n",
    "best = 0.0\n",
    "best_cut = 150\n",
    "\n",
    "for limit in tqdm(xrange(min_,max_,it_)):\n",
    "    comp_efficiency.append(len(comp_sig[(comp_sig['Ev_max_nComp_ME12'] > limit)])/comp_sig_tot*100)\n",
    "    \n",
    "    comp_rate.append(len(comp_bkg[(comp_bkg['Ev_max_nComp_ME12'] > limit)])/comp_bkg_tot*30*1000)\n",
    "    \n",
    "    comp_limits.append(limit)\n",
    "    \n",
    "# plt.plot(comp_rate,comp_efficiency,'bo')\n",
    "# plt.xlim(0,l2)\n",
    "# plt.ylim(0,plt_comp_max)\n",
    "# plt.xlabel('Rate (kHz)')\n",
    "# plt.ylabel('Efficiency (%)')\n",
    "# plt.title('Comparator ROC Curve for ME12')\n",
    "\n",
    "Make_ROC(comp_rate,comp_efficiency,\"comp_ME12\",l2,plt_comp_max)\n",
    "\n",
    "for i in range(len(comp_rate)):\n",
    "    if comp_rate[i] > 0.02 and comp_rate[i] < l2:\n",
    "    #if comp_rate[i] > 0:\n",
    "        #print 'rate =', comp_rate[i], 'kHz and efficiency =', comp_efficiency[i], '% for threshold >', comp_limits[i]\n",
    "        if np.power(comp_efficiency[i],r2)/np.sqrt(comp_rate[i]) > best:\n",
    "            best = np.power(comp_efficiency[i],r2)/np.sqrt(comp_rate[i])\n",
    "            best_cut = comp_limits[i]\n",
    "        \n",
    "print \"Best threshold > %i\" %(best_cut)\n",
    "print 'rate =', comp_rate[best_cut+1], 'kHz and efficiency =', comp_efficiency[best_cut+1], '% for threshold >', comp_limits[best_cut+1]\n",
    "comp12 = best_cut\n",
    "\n",
    "#Image(filename='ROC_Curves/comp_ME12.png')"
   ]
  },
  {
   "cell_type": "code",
   "execution_count": 8,
   "metadata": {},
   "outputs": [
    {
     "name": "stderr",
     "output_type": "stream",
     "text": [
      "100%|██████████| 150/150 [00:00<00:00, 242.82it/s]"
     ]
    },
    {
     "name": "stdout",
     "output_type": "stream",
     "text": [
      "Best threshold > 29\n",
      "rate = 0.0386782482235 kHz and efficiency = 3.74857305936 % for threshold > 29\n"
     ]
    },
    {
     "name": "stderr",
     "output_type": "stream",
     "text": [
      "\n",
      "Warning in <TCanvas::Constructor>: Deleting canvas with same name: c2\n",
      "Info in <TCanvas::Print>: pdf file ROC_Curves/pdf/comp_ME13_prelim.pdf has been created\n"
     ]
    }
   ],
   "source": [
    "comp_efficiency=array('d')\n",
    "comp_sig_tot = len(comp_sig)\n",
    "comp_rate=array('d')\n",
    "comp_bkg_tot = len(comp_bkg)\n",
    "comp_limits=[0]\n",
    "best = 0.0\n",
    "best_cut = 150\n",
    "\n",
    "for limit in tqdm(xrange(min_,max_,it_)):\n",
    "    comp_efficiency.append(len(comp_sig[(comp_sig['Ev_max_nComp_ME13'] > limit)])/comp_sig_tot*100)\n",
    "    \n",
    "    comp_rate.append(len(comp_bkg[(comp_bkg['Ev_max_nComp_ME13'] > limit)])/comp_bkg_tot*30*1000)\n",
    "    \n",
    "    comp_limits.append(limit)\n",
    "    \n",
    "# plt.plot(comp_rate,comp_efficiency,'bo')\n",
    "# plt.xlim(0,l2)\n",
    "# plt.ylim(0,plt_comp_max)\n",
    "# plt.xlabel('Rate (kHz)')\n",
    "# plt.ylabel('Efficiency (%)')\n",
    "# plt.title('Comparator ROC Curve for ME13')\n",
    "\n",
    "Make_ROC(comp_rate,comp_efficiency,\"comp_ME13\",l2,plt_comp_max)\n",
    "\n",
    "for i in range(len(comp_rate)):\n",
    "    if comp_rate[i] > 0.02 and comp_rate[i] < l2:\n",
    "    #if comp_rate[i] > 0:\n",
    "        #print 'rate =', comp_rate[i], 'kHz and efficiency =', comp_efficiency[i], '% for threshold >', comp_limits[i]\n",
    "        if np.power(comp_efficiency[i],r2)/np.sqrt(comp_rate[i]) > best:\n",
    "            best = np.power(comp_efficiency[i],r2)/np.sqrt(comp_rate[i])\n",
    "            best_cut = comp_limits[i]\n",
    "        \n",
    "print \"Best threshold > %i\" %(best_cut)\n",
    "print 'rate =', comp_rate[best_cut+1], 'kHz and efficiency =', comp_efficiency[best_cut+1], '% for threshold >', comp_limits[best_cut+1]\n",
    "comp13 = best_cut"
   ]
  },
  {
   "cell_type": "code",
   "execution_count": 9,
   "metadata": {},
   "outputs": [
    {
     "name": "stderr",
     "output_type": "stream",
     "text": [
      "100%|██████████| 150/150 [00:01<00:00, 104.76it/s]"
     ]
    },
    {
     "name": "stdout",
     "output_type": "stream",
     "text": [
      "Best threshold > 48\n",
      "rate = 0.0386782482235 kHz and efficiency = 5.41666666667 % for threshold > 48\n"
     ]
    },
    {
     "name": "stderr",
     "output_type": "stream",
     "text": [
      "\n",
      "Warning in <TCanvas::Constructor>: Deleting canvas with same name: c2\n",
      "Info in <TCanvas::Print>: pdf file ROC_Curves/pdf/comp_ME21_prelim.pdf has been created\n"
     ]
    }
   ],
   "source": [
    "comp_efficiency=array('d')\n",
    "comp_sig_tot = len(comp_sig)\n",
    "comp_rate=array('d')\n",
    "comp_bkg_tot = len(comp_bkg)\n",
    "comp_limits=[0]\n",
    "best = 0.0\n",
    "best_cut = 150\n",
    "\n",
    "for limit in tqdm(xrange(min_,max_,it_)):\n",
    "    comp_efficiency.append(len(comp_sig[(comp_sig['Ev_max_nComp_ME21'] > limit)])/comp_sig_tot*100)\n",
    "    \n",
    "    comp_rate.append(len(comp_bkg[(comp_bkg['Ev_max_nComp_ME21'] > limit)])/comp_bkg_tot*30*1000)\n",
    "    \n",
    "    comp_limits.append(limit)\n",
    "    \n",
    "# plt.plot(comp_rate,comp_efficiency,'bo')\n",
    "# plt.xlim(0,l1)\n",
    "# plt.ylim(0,plt_comp_max)\n",
    "# plt.xlabel('Rate (kHz)')\n",
    "# plt.ylabel('Efficiency (%)')\n",
    "# plt.title('Comparator ROC Curve for ME21')\n",
    "\n",
    "Make_ROC(comp_rate,comp_efficiency,\"comp_ME21\",l1,plt_comp_max)\n",
    "\n",
    "for i in range(len(comp_rate)):\n",
    "    if comp_rate[i] > 0.02 and comp_rate[i] < l1:\n",
    "    #if comp_rate[i] > 0:\n",
    "        #print 'rate =', comp_rate[i], 'kHz and efficiency =', comp_efficiency[i], '% for threshold >', comp_limits[i]\n",
    "        if np.power(comp_efficiency[i],r1)/np.sqrt(comp_rate[i]) > best:\n",
    "            best = np.power(comp_efficiency[i],r1)/np.sqrt(comp_rate[i])\n",
    "            best_cut = comp_limits[i]\n",
    "        \n",
    "print \"Best threshold > %i\" %(best_cut)\n",
    "print 'rate =', comp_rate[best_cut+1], 'kHz and efficiency =', comp_efficiency[best_cut+1], '% for threshold >', comp_limits[best_cut+1]\n",
    "comp21 = best_cut"
   ]
  },
  {
   "cell_type": "code",
   "execution_count": 10,
   "metadata": {},
   "outputs": [
    {
     "name": "stderr",
     "output_type": "stream",
     "text": [
      "100%|██████████| 150/150 [00:00<00:00, 178.79it/s]"
     ]
    },
    {
     "name": "stdout",
     "output_type": "stream",
     "text": [
      "Best threshold > 41\n",
      "rate = 0.0386782482235 kHz and efficiency = 7.40011415525 % for threshold > 41\n"
     ]
    },
    {
     "name": "stderr",
     "output_type": "stream",
     "text": [
      "\n",
      "Warning in <TCanvas::Constructor>: Deleting canvas with same name: c2\n",
      "Info in <TCanvas::Print>: pdf file ROC_Curves/pdf/comp_ME22_prelim.pdf has been created\n"
     ]
    }
   ],
   "source": [
    "comp_efficiency=array('d')\n",
    "comp_sig_tot = len(comp_sig)\n",
    "comp_rate=array('d')\n",
    "comp_bkg_tot = len(comp_bkg)\n",
    "comp_limits=[0]\n",
    "best = 0.0\n",
    "best_cut = 150\n",
    "\n",
    "for limit in tqdm(xrange(min_,max_,it_)):\n",
    "    comp_efficiency.append(len(comp_sig[(comp_sig['Ev_max_nComp_ME22'] > limit)])/comp_sig_tot*100)\n",
    "    \n",
    "    comp_rate.append(len(comp_bkg[(comp_bkg['Ev_max_nComp_ME22'] > limit)])/comp_bkg_tot*30*1000)\n",
    "    \n",
    "    comp_limits.append(limit)\n",
    "    \n",
    "# plt.plot(comp_rate,comp_efficiency,'bo')\n",
    "# plt.xlim(0,l2)\n",
    "# plt.ylim(0,plt_comp_max)\n",
    "# plt.xlabel('Rate (kHz)')\n",
    "# plt.ylabel('Efficiency (%)')\n",
    "# plt.title('Comparator ROC Curve for ME22')\n",
    "\n",
    "Make_ROC(comp_rate,comp_efficiency,\"comp_ME22\",l2,plt_comp_max)\n",
    "\n",
    "for i in range(len(comp_rate)):\n",
    "    if comp_rate[i] > 0.02 and comp_rate[i] < l2:\n",
    "    #if comp_rate[i] > 0:\n",
    "        #print 'rate =', comp_rate[i], 'kHz and efficiency =', comp_efficiency[i], '% for threshold >', comp_limits[i]\n",
    "        if np.power(comp_efficiency[i],r2)/np.sqrt(comp_rate[i]) > best:\n",
    "            best = np.power(comp_efficiency[i],r2)/np.sqrt(comp_rate[i])\n",
    "            best_cut = comp_limits[i]\n",
    "        \n",
    "print \"Best threshold > %i\" %(best_cut)\n",
    "print 'rate =', comp_rate[best_cut+1], 'kHz and efficiency =', comp_efficiency[best_cut+1], '% for threshold >', comp_limits[best_cut+1]\n",
    "comp22 = best_cut"
   ]
  },
  {
   "cell_type": "code",
   "execution_count": 11,
   "metadata": {},
   "outputs": [
    {
     "name": "stderr",
     "output_type": "stream",
     "text": [
      "100%|██████████| 150/150 [00:01<00:00, 131.46it/s]"
     ]
    },
    {
     "name": "stdout",
     "output_type": "stream",
     "text": [
      "Best threshold > 48\n",
      "rate = 0.0290086861676 kHz and efficiency = 4.31792237443 % for threshold > 48\n"
     ]
    },
    {
     "name": "stderr",
     "output_type": "stream",
     "text": [
      "\n",
      "Info in <TCanvas::Print>: pdf file ROC_Curves/pdf/comp_ME31_prelim.pdf has been created\n"
     ]
    }
   ],
   "source": [
    "comp_efficiency=array('d')\n",
    "comp_sig_tot = len(comp_sig)\n",
    "comp_rate=array('d')\n",
    "comp_bkg_tot = len(comp_bkg)\n",
    "comp_limits=[0]\n",
    "best = 0.0\n",
    "best_cut = 150\n",
    "\n",
    "for limit in tqdm(xrange(min_,max_,it_)):\n",
    "    comp_efficiency.append(len(comp_sig[(comp_sig['Ev_max_nComp_ME31'] > limit)])/comp_sig_tot*100)\n",
    "    \n",
    "    comp_rate.append(len(comp_bkg[(comp_bkg['Ev_max_nComp_ME31'] > limit)])/comp_bkg_tot*30*1000)\n",
    "    \n",
    "    comp_limits.append(limit)\n",
    "    \n",
    "# plt.plot(comp_rate,comp_efficiency,'bo')\n",
    "# plt.xlim(0,l1)\n",
    "# plt.ylim(0,plt_comp_max)\n",
    "# plt.xlabel('Rate (kHz)')\n",
    "# plt.ylabel('Efficiency (%)')\n",
    "# plt.title('Comparator ROC Curve for ME31')\n",
    "\n",
    "Make_ROC(comp_rate,comp_efficiency,\"comp_ME31\",l1,plt_comp_max)\n",
    "\n",
    "for i in range(len(comp_rate)):\n",
    "    if comp_rate[i] > 0.02 and comp_rate[i] < l1:\n",
    "    #if comp_rate[i] > 0:\n",
    "        #print 'rate =', comp_rate[i], 'kHz and efficiency =', comp_efficiency[i], '% for threshold >', comp_limits[i]\n",
    "        if np.power(comp_efficiency[i],r1)/np.sqrt(comp_rate[i]) > best:\n",
    "            best = np.power(comp_efficiency[i],r1)/np.sqrt(comp_rate[i])\n",
    "            best_cut = comp_limits[i]\n",
    "        \n",
    "print \"Best threshold > %i\" %(best_cut)\n",
    "print 'rate =', comp_rate[best_cut+1], 'kHz and efficiency =', comp_efficiency[best_cut+1], '% for threshold >', comp_limits[best_cut+1]\n",
    "comp31 = best_cut"
   ]
  },
  {
   "cell_type": "code",
   "execution_count": 12,
   "metadata": {},
   "outputs": [
    {
     "name": "stderr",
     "output_type": "stream",
     "text": [
      "100%|██████████| 150/150 [00:00<00:00, 207.83it/s]\n"
     ]
    },
    {
     "name": "stdout",
     "output_type": "stream",
     "text": [
      "Best threshold > 34\n",
      "rate = 0.0290086861676 kHz and efficiency = 6.24571917808 % for threshold > 34\n"
     ]
    },
    {
     "name": "stderr",
     "output_type": "stream",
     "text": [
      "Warning in <TCanvas::Constructor>: Deleting canvas with same name: c2\n",
      "Info in <TCanvas::Print>: pdf file ROC_Curves/pdf/comp_ME32_prelim.pdf has been created\n"
     ]
    }
   ],
   "source": [
    "comp_efficiency=array('d')\n",
    "comp_sig_tot = len(comp_sig)\n",
    "comp_rate=array('d')\n",
    "comp_bkg_tot = len(comp_bkg)\n",
    "comp_limits=[0]\n",
    "best = 0.0\n",
    "best_cut = 150\n",
    "\n",
    "for limit in tqdm(xrange(min_,max_,it_)):\n",
    "    comp_efficiency.append(len(comp_sig[(comp_sig['Ev_max_nComp_ME32'] > limit)])/comp_sig_tot*100)\n",
    "    \n",
    "    comp_rate.append(len(comp_bkg[(comp_bkg['Ev_max_nComp_ME32'] > limit)])/comp_bkg_tot*30*1000)\n",
    "    \n",
    "    comp_limits.append(limit)\n",
    "    \n",
    "# plt.plot(comp_rate,comp_efficiency,'bo')\n",
    "# plt.xlim(0,l2)\n",
    "# plt.ylim(0,plt_comp_max)\n",
    "# plt.xlabel('Rate (kHz)')\n",
    "# plt.ylabel('Efficiency (%)')\n",
    "# plt.title('Comparator ROC Curve for ME32')\n",
    "\n",
    "Make_ROC(comp_rate,comp_efficiency,\"comp_ME32\",l2,plt_comp_max)\n",
    "\n",
    "for i in range(len(comp_rate)):\n",
    "    if comp_rate[i] > 0.02 and comp_rate[i] < l2:\n",
    "    #if comp_rate[i] > 0:\n",
    "        #print 'rate =', comp_rate[i], 'kHz and efficiency =', comp_efficiency[i], '% for threshold >', comp_limits[i]\n",
    "        if np.power(comp_efficiency[i],r2)/np.sqrt(comp_rate[i]) > best:\n",
    "            best = np.power(comp_efficiency[i],r2)/np.sqrt(comp_rate[i])\n",
    "            best_cut = comp_limits[i]\n",
    "        \n",
    "print \"Best threshold > %i\" %(best_cut)\n",
    "print 'rate =', comp_rate[best_cut+1], 'kHz and efficiency =', comp_efficiency[best_cut+1], '% for threshold >', comp_limits[best_cut+1]\n",
    "comp32 = best_cut"
   ]
  },
  {
   "cell_type": "code",
   "execution_count": 13,
   "metadata": {},
   "outputs": [
    {
     "name": "stderr",
     "output_type": "stream",
     "text": [
      "100%|██████████| 150/150 [00:01<00:00, 137.93it/s]"
     ]
    },
    {
     "name": "stdout",
     "output_type": "stream",
     "text": [
      "Best threshold > 41\n",
      "rate = 0.0773564964469 kHz and efficiency = 6.23002283105 % for threshold > 41\n"
     ]
    },
    {
     "name": "stderr",
     "output_type": "stream",
     "text": [
      "\n",
      "Warning in <TCanvas::Constructor>: Deleting canvas with same name: c2\n",
      "Info in <TCanvas::Print>: pdf file ROC_Curves/pdf/comp_ME41_prelim.pdf has been created\n"
     ]
    }
   ],
   "source": [
    "comp_efficiency=array('d')\n",
    "comp_sig_tot = len(comp_sig)\n",
    "comp_rate=array('d')\n",
    "comp_bkg_tot = len(comp_bkg)\n",
    "comp_limits=[0]\n",
    "best = 0.0\n",
    "best_cut = 150\n",
    "\n",
    "for limit in tqdm(xrange(min_,max_,it_)):\n",
    "    comp_efficiency.append(len(comp_sig[(comp_sig['Ev_max_nComp_ME41'] > limit)])/comp_sig_tot*100)\n",
    "    \n",
    "    comp_rate.append(len(comp_bkg[(comp_bkg['Ev_max_nComp_ME41'] > limit)])/comp_bkg_tot*30*1000)\n",
    "    \n",
    "    comp_limits.append(limit)\n",
    "    \n",
    "# plt.plot(comp_rate,comp_efficiency,'bo')\n",
    "# plt.xlim(0,l1)\n",
    "# plt.ylim(0,plt_comp_max)\n",
    "# plt.xlabel('Rate (kHz)')\n",
    "# plt.ylabel('Efficiency (%)')\n",
    "# plt.title('Comparator ROC Curve for ME41')\n",
    "\n",
    "Make_ROC(comp_rate,comp_efficiency,\"comp_ME41\",l1,plt_comp_max)\n",
    "\n",
    "for i in range(len(comp_rate)):\n",
    "    if comp_rate[i] > 0.02 and comp_rate[i] < l1:\n",
    "    #if comp_rate[i] > 0:\n",
    "        #print 'rate =', comp_rate[i], 'kHz and efficiency =', comp_efficiency[i], '% for threshold >', comp_limits[i]\n",
    "        if np.power(comp_efficiency[i],r1)/np.sqrt(comp_rate[i]) > best:\n",
    "            best = np.power(comp_efficiency[i],r1)/np.sqrt(comp_rate[i])\n",
    "            best_cut = comp_limits[i]\n",
    "        \n",
    "print \"Best threshold > %i\" %(best_cut)\n",
    "print 'rate =', comp_rate[best_cut+1], 'kHz and efficiency =', comp_efficiency[best_cut+1], '% for threshold >', comp_limits[best_cut+1]\n",
    "comp41 = best_cut"
   ]
  },
  {
   "cell_type": "code",
   "execution_count": 14,
   "metadata": {},
   "outputs": [
    {
     "name": "stderr",
     "output_type": "stream",
     "text": [
      "100%|██████████| 150/150 [00:00<00:00, 169.79it/s]"
     ]
    },
    {
     "name": "stdout",
     "output_type": "stream",
     "text": [
      "Best threshold > 30\n",
      "rate = 0.0773564964469 kHz and efficiency = 9.96147260274 % for threshold > 30\n"
     ]
    },
    {
     "name": "stderr",
     "output_type": "stream",
     "text": [
      "\n",
      "Warning in <TCanvas::Constructor>: Deleting canvas with same name: c2\n",
      "Info in <TCanvas::Print>: pdf file ROC_Curves/pdf/comp_ME42_prelim.pdf has been created\n"
     ]
    }
   ],
   "source": [
    "comp_efficiency=array('d')\n",
    "comp_sig_tot = len(comp_sig)\n",
    "comp_rate=array('d')\n",
    "comp_bkg_tot = len(comp_bkg)\n",
    "comp_limits=[0]\n",
    "best = 0.0\n",
    "best_cut = 150\n",
    "\n",
    "for limit in tqdm(xrange(min_,max_,it_)):\n",
    "    comp_efficiency.append(len(comp_sig[(comp_sig['Ev_max_nComp_ME42'] > limit)])/comp_sig_tot*100)\n",
    "    \n",
    "    comp_rate.append(len(comp_bkg[(comp_bkg['Ev_max_nComp_ME42'] > limit)])/comp_bkg_tot*30*1000)\n",
    "    \n",
    "    comp_limits.append(limit)\n",
    "    \n",
    "# plt.plot(comp_rate,comp_efficiency,'bo')\n",
    "# plt.xlim(0,l2)\n",
    "# plt.ylim(0,11)\n",
    "# plt.xlabel('Rate (kHz)')\n",
    "# plt.ylabel('Efficiency (%)')\n",
    "# plt.title('Comparator ROC Curve for ME42')\n",
    "\n",
    "Make_ROC(comp_rate,comp_efficiency,\"comp_ME42\",l2,11)\n",
    "\n",
    "for i in range(len(comp_rate)):\n",
    "    if comp_rate[i] > 0.02 and comp_rate[i] < l2:\n",
    "    #if comp_rate[i] > 0:\n",
    "        #print 'rate =', comp_rate[i], 'kHz and efficiency =', comp_efficiency[i], '% for threshold >', comp_limits[i]\n",
    "        if np.power(comp_efficiency[i],r2)/np.sqrt(comp_rate[i]) > best:\n",
    "            best = np.power(comp_efficiency[i],r2)/np.sqrt(comp_rate[i])\n",
    "            best_cut = comp_limits[i]\n",
    "        \n",
    "print \"Best threshold > %i\" %(best_cut)\n",
    "print 'rate =', comp_rate[best_cut+1], 'kHz and efficiency =', comp_efficiency[best_cut+1], '% for threshold >', comp_limits[best_cut+1]\n",
    "comp42 = best_cut\n",
    "\n",
    "#Image(filename='ROC_Curves/comp_ME42.png')"
   ]
  },
  {
   "cell_type": "code",
   "execution_count": 15,
   "metadata": {},
   "outputs": [
    {
     "name": "stdout",
     "output_type": "stream",
     "text": [
      "rate = 0.734886716246 kHz, efficiency = 35.3809931507 %\n"
     ]
    }
   ],
   "source": [
    "# comp11, comp12, comp13 = 83, 62, 29\n",
    "# comp21, comp22 = 45, 40\n",
    "# comp31, comp32 = 43, 31\n",
    "# comp41, comp42 = 42, 31\n",
    "\n",
    "# comp11, comp12, comp13 = 96, 65, 29\n",
    "# comp21, comp22 = 48, 35\n",
    "# comp31, comp32 = 45, 28\n",
    "# comp41, comp42 = 41, 29\n",
    "\n",
    "efficiency_comp_final = len(comp_sig[(comp_sig['Ev_max_nComp_ME11'] > comp11) | (comp_sig['Ev_max_nComp_ME12'] > comp12) | (comp_sig['Ev_max_nComp_ME13'] > comp13) |\n",
    "                           (comp_sig['Ev_max_nComp_ME21'] > comp21) | (comp_sig['Ev_max_nComp_ME22'] > comp22) |\n",
    "                           (comp_sig['Ev_max_nComp_ME31'] > comp31) | (comp_sig['Ev_max_nComp_ME32'] > comp32) |\n",
    "                           (comp_sig['Ev_max_nComp_ME41'] > comp41) | (comp_sig['Ev_max_nComp_ME41'] > comp42)])/comp_sig_tot*100\n",
    "                \n",
    "rate_comp_final       = len(comp_bkg[(comp_bkg['Ev_max_nComp_ME11'] > comp11) | (comp_bkg['Ev_max_nComp_ME12'] > comp12) | (comp_bkg['Ev_max_nComp_ME13'] > comp13) |\n",
    "                           (comp_bkg['Ev_max_nComp_ME21'] > comp21) | (comp_bkg['Ev_max_nComp_ME22'] > comp22) |\n",
    "                           (comp_bkg['Ev_max_nComp_ME31'] > comp31) | (comp_bkg['Ev_max_nComp_ME32'] > comp32) |\n",
    "                           (comp_bkg['Ev_max_nComp_ME41'] > comp41) | (comp_bkg['Ev_max_nComp_ME42'] > comp42)])/comp_bkg_tot*30*1000\n",
    "\n",
    "print \"rate =\", rate_comp_final, \"kHz, efficiency =\", efficiency_comp_final, \"%\""
   ]
  },
  {
   "cell_type": "markdown",
   "metadata": {},
   "source": [
    "# Wire"
   ]
  },
  {
   "cell_type": "code",
   "execution_count": 16,
   "metadata": {},
   "outputs": [
    {
     "name": "stderr",
     "output_type": "stream",
     "text": [
      "100%|██████████| 150/150 [00:02<00:00, 55.96it/s]\n"
     ]
    },
    {
     "name": "stdout",
     "output_type": "stream",
     "text": [
      "Best threshold > 103\n",
      "rate = 0.0190141420851 kHz and efficiency = 0.390535917902 % for threshold > 103\n"
     ]
    },
    {
     "name": "stderr",
     "output_type": "stream",
     "text": [
      "Info in <TCanvas::Print>: pdf file ROC_Curves/pdf/wire_ME11_prelim.pdf has been created\n"
     ]
    }
   ],
   "source": [
    "wire_efficiency=array('d')\n",
    "wire_sig_tot = len(wire_sig)\n",
    "wire_rate=array('d')\n",
    "wire_bkg_tot = len(wire_bkg)\n",
    "wire_limits=[0]\n",
    "best = 0.0\n",
    "best_cut = 150\n",
    "\n",
    "for limit in tqdm(xrange(min_,max_,it_)):\n",
    "    wire_efficiency.append(len(wire_sig[(wire_sig['Ev_max_nWire_ME11'] > limit)])/wire_sig_tot*100)\n",
    "    \n",
    "    wire_rate.append(len(wire_bkg[(wire_bkg['Ev_max_nWire_ME11'] > limit)])/wire_bkg_tot*30*1000)\n",
    "    \n",
    "    wire_limits.append(limit)\n",
    "    \n",
    "# plt.plot(wire_rate,wire_efficiency,'bo')\n",
    "# plt.xlim(0,0.02)\n",
    "# plt.ylim(0,1)\n",
    "# plt.xlabel('Rate (kHz)')\n",
    "# plt.ylabel('Efficiency (%)')\n",
    "# plt.title('Wire ROC Curve for ME11')\n",
    "\n",
    "Make_ROC(wire_rate,wire_efficiency,\"wire_ME11\",0.02,1)\n",
    "\n",
    "for i in range(len(wire_rate)):\n",
    "    if wire_rate[i] > 0 and wire_rate[i] < 0.02:\n",
    "        #print 'rate =', wire_rate[i], 'kHz and efficiency =', wire_efficiency[i], '% for threshold >', wire_limits[i]\n",
    "        if np.power(wire_efficiency[i],r1)/np.sqrt(wire_rate[i]) > best:\n",
    "            best = np.power(wire_efficiency[i],r1)/np.sqrt(wire_rate[i])\n",
    "            best_cut = wire_limits[i]\n",
    "        \n",
    "print \"Best threshold > %i\" %(best_cut)\n",
    "print 'rate =', wire_rate[best_cut+1], 'kHz and efficiency =', wire_efficiency[best_cut+1], '% for threshold >', wire_limits[best_cut+1]\n",
    "wire11 = best_cut"
   ]
  },
  {
   "cell_type": "code",
   "execution_count": 17,
   "metadata": {},
   "outputs": [
    {
     "name": "stderr",
     "output_type": "stream",
     "text": [
      "100%|██████████| 150/150 [00:00<00:00, 171.88it/s]"
     ]
    },
    {
     "name": "stdout",
     "output_type": "stream",
     "text": [
      "Best threshold > 98\n",
      "rate = 0.0950707104254 kHz and efficiency = 4.19184720639 % for threshold > 98\n"
     ]
    },
    {
     "name": "stderr",
     "output_type": "stream",
     "text": [
      "\n",
      "Warning in <TCanvas::Constructor>: Deleting canvas with same name: c2\n",
      "Info in <TCanvas::Print>: pdf file ROC_Curves/pdf/wire_ME12_prelim.pdf has been created\n"
     ]
    }
   ],
   "source": [
    "wire_efficiency=array('d')\n",
    "wire_sig_tot = len(wire_sig)\n",
    "wire_rate=array('d')\n",
    "wire_bkg_tot = len(wire_bkg)\n",
    "wire_limits=[0]\n",
    "best=0.0\n",
    "best_cut=150\n",
    "\n",
    "for limit in tqdm(xrange(min_,max_,it_)):\n",
    "    wire_efficiency.append(len(wire_sig[(wire_sig['Ev_max_nWire_ME12'] > limit)])/wire_sig_tot*100)\n",
    "    \n",
    "    wire_rate.append(len(wire_bkg[(wire_bkg['Ev_max_nWire_ME12'] > limit)])/wire_bkg_tot*30*1000)\n",
    "    \n",
    "    wire_limits.append(limit)\n",
    "    \n",
    "# plt.plot(wire_rate,wire_efficiency,'bo')\n",
    "# plt.xlim(0,l2)\n",
    "# plt.ylim(0,5)\n",
    "# plt.xlabel('Rate (kHz)')\n",
    "# plt.ylabel('Efficiency (%)')\n",
    "# plt.title('Wire ROC Curve for ME12')\n",
    "\n",
    "Make_ROC(wire_rate,wire_efficiency,\"wire_ME12\",l2,5)\n",
    "\n",
    "for i in range(len(wire_rate)):\n",
    "    if wire_rate[i] > 0.02 and wire_rate[i] < l2:\n",
    "        #print 'rate =', wire_rate[i], 'kHz and efficiency =', wire_efficiency[i], '% for threshold >', wire_limits[i]\n",
    "        if np.power(wire_efficiency[i],r2)/np.sqrt(wire_rate[i]) > best:\n",
    "            best = np.power(wire_efficiency[i],r2)/np.sqrt(wire_rate[i])\n",
    "            best_cut = wire_limits[i]\n",
    "        \n",
    "print \"Best threshold > %i\" %(best_cut)\n",
    "print 'rate =', wire_rate[best_cut+1], 'kHz and efficiency =', wire_efficiency[best_cut+1], '% for threshold >', wire_limits[best_cut+1]\n",
    "wire12 = best_cut"
   ]
  },
  {
   "cell_type": "code",
   "execution_count": 18,
   "metadata": {},
   "outputs": [
    {
     "name": "stderr",
     "output_type": "stream",
     "text": [
      "100%|██████████| 150/150 [00:00<00:00, 243.11it/s]"
     ]
    },
    {
     "name": "stdout",
     "output_type": "stream",
     "text": [
      "Best threshold > 31\n",
      "rate = 0.161620207723 kHz and efficiency = 4.33152793615 % for threshold > 31\n"
     ]
    },
    {
     "name": "stderr",
     "output_type": "stream",
     "text": [
      "\n",
      "Warning in <TCanvas::Constructor>: Deleting canvas with same name: c2\n",
      "Info in <TCanvas::Print>: pdf file ROC_Curves/pdf/wire_ME13_prelim.pdf has been created\n"
     ]
    }
   ],
   "source": [
    "wire_efficiency=array('d')\n",
    "wire_sig_tot = len(wire_sig)\n",
    "wire_rate=array('d')\n",
    "wire_bkg_tot = len(wire_bkg)\n",
    "wire_limits=[0]\n",
    "best=0.0\n",
    "best_cut=150\n",
    "\n",
    "for limit in tqdm(xrange(min_,max_,it_)):\n",
    "    wire_efficiency.append(len(wire_sig[(wire_sig['Ev_max_nWire_ME13'] > limit)])/wire_sig_tot*100)\n",
    "    \n",
    "    wire_rate.append(len(wire_bkg[(wire_bkg['Ev_max_nWire_ME13'] > limit)])/wire_bkg_tot*30*1000)\n",
    "    \n",
    "    wire_limits.append(limit)\n",
    "    \n",
    "# plt.plot(wire_rate,wire_efficiency,'bo')\n",
    "# plt.xlim(0,l2)\n",
    "# plt.ylim(0,5)\n",
    "# plt.xlabel('Rate (kHz)')\n",
    "# plt.ylabel('Efficiency (%)')\n",
    "# plt.title('Wire ROC Curve for ME13')\n",
    "\n",
    "Make_ROC(wire_rate,wire_efficiency,\"wire_ME13\",l2,5)\n",
    "\n",
    "for i in range(len(wire_rate)):\n",
    "    if wire_rate[i] > 0.02 and wire_rate[i] < l2:\n",
    "        #print 'rate =', wire_rate[i], 'kHz and efficiency =', wire_efficiency[i], '% for threshold >', wire_limits[i]\n",
    "        if np.power(wire_efficiency[i],r2)/np.sqrt(wire_rate[i]) > best:\n",
    "            best = np.power(wire_efficiency[i],r2)/np.sqrt(wire_rate[i])\n",
    "            best_cut = wire_limits[i]\n",
    "        \n",
    "print \"Best threshold > %i\" %(best_cut)\n",
    "print 'rate =', wire_rate[best_cut+1], 'kHz and efficiency =', wire_efficiency[best_cut+1], '% for threshold >', wire_limits[best_cut+1]\n",
    "wire13 = best_cut"
   ]
  },
  {
   "cell_type": "code",
   "execution_count": 19,
   "metadata": {},
   "outputs": [
    {
     "name": "stderr",
     "output_type": "stream",
     "text": [
      "100%|██████████| 150/150 [00:02<00:00, 73.65it/s] "
     ]
    },
    {
     "name": "stdout",
     "output_type": "stream",
     "text": [
      "Best threshold > 137\n",
      "rate = 0.00950707104254 kHz and efficiency = 3.44355758267 % for threshold > 137\n"
     ]
    },
    {
     "name": "stderr",
     "output_type": "stream",
     "text": [
      "\n",
      "Warning in <TCanvas::Constructor>: Deleting canvas with same name: c2\n",
      "Info in <TCanvas::Print>: pdf file ROC_Curves/pdf/wire_ME21_prelim.pdf has been created\n"
     ]
    }
   ],
   "source": [
    "wire_efficiency=array('d')\n",
    "wire_sig_tot = len(wire_sig)\n",
    "wire_rate=array('d')\n",
    "wire_bkg_tot = len(wire_bkg)\n",
    "wire_limits=[0]\n",
    "best=0.0\n",
    "best_cut=150\n",
    "\n",
    "for limit in tqdm(xrange(min_,max_,it_)):\n",
    "    wire_efficiency.append(len(wire_sig[(wire_sig['Ev_max_nWire_ME21'] > limit)])/wire_sig_tot*100)\n",
    "    \n",
    "    wire_rate.append(len(wire_bkg[(wire_bkg['Ev_max_nWire_ME21'] > limit)])/wire_bkg_tot*30*1000)\n",
    "    \n",
    "    wire_limits.append(limit)\n",
    "    \n",
    "# plt.plot(wire_rate,wire_efficiency,'bo')\n",
    "# plt.xlim(0,l1)\n",
    "# plt.ylim(0,5)\n",
    "# plt.xlabel('Rate (kHz)')\n",
    "# plt.ylabel('Efficiency (%)')\n",
    "# plt.title('Wire ROC Curve for ME21')\n",
    "\n",
    "Make_ROC(wire_rate,wire_efficiency,\"wire_ME21\",l1,5)\n",
    "\n",
    "for i in range(len(wire_rate)):\n",
    "    if wire_rate[i] > 0 and wire_rate[i] < l1:\n",
    "        #print 'rate =', wire_rate[i], 'kHz and efficiency =', wire_efficiency[i], '% for threshold >', wire_limits[i]\n",
    "        if np.power(wire_efficiency[i],r1)/np.sqrt(wire_rate[i]) > best:\n",
    "            best = np.power(wire_efficiency[i],r1)/np.sqrt(wire_rate[i])\n",
    "            best_cut = wire_limits[i]\n",
    "        \n",
    "print \"Best threshold > %i\" %(best_cut)\n",
    "print 'rate =', wire_rate[best_cut+1], 'kHz and efficiency =', wire_efficiency[best_cut+1], '% for threshold >', wire_limits[best_cut+1]\n",
    "wire21 = best_cut"
   ]
  },
  {
   "cell_type": "code",
   "execution_count": 20,
   "metadata": {},
   "outputs": [
    {
     "name": "stderr",
     "output_type": "stream",
     "text": [
      "100%|██████████| 150/150 [00:00<00:00, 171.51it/s]"
     ]
    },
    {
     "name": "stdout",
     "output_type": "stream",
     "text": [
      "Best threshold > 82\n",
      "rate = 0.0380282841702 kHz and efficiency = 2.88198403649 % for threshold > 82\n"
     ]
    },
    {
     "name": "stderr",
     "output_type": "stream",
     "text": [
      "\n",
      "Info in <TCanvas::Print>: pdf file ROC_Curves/pdf/wire_ME22_prelim.pdf has been created\n"
     ]
    }
   ],
   "source": [
    "wire_efficiency=array('d')\n",
    "wire_sig_tot = len(wire_sig)\n",
    "wire_rate=array('d')\n",
    "wire_bkg_tot = len(wire_bkg)\n",
    "wire_limits=[0]\n",
    "best=0.0\n",
    "best_cut=150\n",
    "\n",
    "for limit in tqdm(xrange(min_,max_,it_)):\n",
    "    wire_efficiency.append(len(wire_sig[(wire_sig['Ev_max_nWire_ME22'] > limit)])/wire_sig_tot*100)\n",
    "    \n",
    "    wire_rate.append(len(wire_bkg[(wire_bkg['Ev_max_nWire_ME22'] > limit)])/wire_bkg_tot*30*1000)\n",
    "    \n",
    "    wire_limits.append(limit)\n",
    "    \n",
    "# plt.plot(wire_rate,wire_efficiency,'bo')\n",
    "# plt.xlim(0,l2)\n",
    "# plt.ylim(0,5)\n",
    "# plt.xlabel('Rate (kHz)')\n",
    "# plt.ylabel('Efficiency (%)')\n",
    "# plt.title('Wire ROC Curve for ME22')\n",
    "\n",
    "Make_ROC(wire_rate,wire_efficiency,\"wire_ME22\",l2,5)\n",
    "\n",
    "for i in range(len(wire_rate)):\n",
    "    if wire_rate[i] > 0.02 and wire_rate[i] < l2:\n",
    "        #print 'rate =', wire_rate[i], 'kHz and efficiency =', wire_efficiency[i], '% for threshold >', wire_limits[i]\n",
    "        if np.power(wire_efficiency[i],r2)/np.sqrt(wire_rate[i]) > best:\n",
    "            best = np.power(wire_efficiency[i],r2)/np.sqrt(wire_rate[i])\n",
    "            best_cut = wire_limits[i]\n",
    "        \n",
    "print \"Best threshold > %i\" %(best_cut)\n",
    "print 'rate =', wire_rate[best_cut+1], 'kHz and efficiency =', wire_efficiency[best_cut+1], '% for threshold >', wire_limits[best_cut+1]\n",
    "wire22 = best_cut"
   ]
  },
  {
   "cell_type": "code",
   "execution_count": 21,
   "metadata": {},
   "outputs": [
    {
     "name": "stderr",
     "output_type": "stream",
     "text": [
      "100%|██████████| 150/150 [00:01<00:00, 78.51it/s] "
     ]
    },
    {
     "name": "stdout",
     "output_type": "stream",
     "text": [
      "Best threshold > 129\n",
      "rate = 0.0285212131276 kHz and efficiency = 2.95182440137 % for threshold > 129\n"
     ]
    },
    {
     "name": "stderr",
     "output_type": "stream",
     "text": [
      "\n",
      "Warning in <TCanvas::Constructor>: Deleting canvas with same name: c2\n",
      "Info in <TCanvas::Print>: pdf file ROC_Curves/pdf/wire_ME31_prelim.pdf has been created\n"
     ]
    }
   ],
   "source": [
    "wire_efficiency=array('d')\n",
    "wire_sig_tot = len(wire_sig)\n",
    "wire_rate=array('d')\n",
    "wire_bkg_tot = len(wire_bkg)\n",
    "wire_limits=[0]\n",
    "best=0.0\n",
    "best_cut=150\n",
    "\n",
    "for limit in tqdm(xrange(min_,max_,it_)):\n",
    "    wire_efficiency.append(len(wire_sig[(wire_sig['Ev_max_nWire_ME31'] > limit)])/wire_sig_tot*100)\n",
    "    \n",
    "    wire_rate.append(len(wire_bkg[(wire_bkg['Ev_max_nWire_ME31'] > limit)])/wire_bkg_tot*30*1000)\n",
    "    \n",
    "    wire_limits.append(limit)\n",
    "    \n",
    "# plt.plot(wire_rate,wire_efficiency,'bo')\n",
    "# plt.xlim(0,l1)\n",
    "# plt.ylim(0,5)\n",
    "# plt.xlabel('Rate (kHz)')\n",
    "# plt.ylabel('Efficiency (%)')\n",
    "# plt.title('Wire ROC Curve for ME31')\n",
    "\n",
    "Make_ROC(wire_rate,wire_efficiency,\"wire_ME31\",l1,5)\n",
    "\n",
    "for i in range(len(wire_rate)):\n",
    "    if wire_rate[i] > 0.02 and wire_rate[i] < l1:\n",
    "        #print 'rate =', wire_rate[i], 'kHz and efficiency =', wire_efficiency[i], '% for threshold >', wire_limits[i]\n",
    "        if np.power(wire_efficiency[i],r1)/np.sqrt(wire_rate[i]) > best:\n",
    "            best = np.power(wire_efficiency[i],r1)/np.sqrt(wire_rate[i])\n",
    "            best_cut = wire_limits[i]\n",
    "        \n",
    "print \"Best threshold > %i\" %(best_cut)\n",
    "print 'rate =', wire_rate[best_cut+1], 'kHz and efficiency =', wire_efficiency[best_cut+1], '% for threshold >', wire_limits[best_cut+1]\n",
    "wire31 = best_cut"
   ]
  },
  {
   "cell_type": "code",
   "execution_count": 22,
   "metadata": {},
   "outputs": [
    {
     "name": "stderr",
     "output_type": "stream",
     "text": [
      "100%|██████████| 150/150 [00:01<00:00, 127.40it/s]"
     ]
    },
    {
     "name": "stdout",
     "output_type": "stream",
     "text": [
      "Best threshold > 73\n",
      "rate = 0.152113136681 kHz and efficiency = 2.26482326112 % for threshold > 73\n"
     ]
    },
    {
     "name": "stderr",
     "output_type": "stream",
     "text": [
      "\n",
      "Warning in <TCanvas::Constructor>: Deleting canvas with same name: c2\n",
      "Info in <TCanvas::Print>: pdf file ROC_Curves/pdf/wire_ME32_prelim.pdf has been created\n"
     ]
    }
   ],
   "source": [
    "wire_efficiency=array('d')\n",
    "wire_sig_tot = len(wire_sig)\n",
    "wire_rate=array('d')\n",
    "wire_bkg_tot = len(wire_bkg)\n",
    "wire_limits=[0]\n",
    "best=0.0\n",
    "best_cut=150\n",
    "\n",
    "for limit in tqdm(xrange(min_,max_,it_)):\n",
    "    wire_efficiency.append(len(wire_sig[(wire_sig['Ev_max_nWire_ME32'] > limit)])/wire_sig_tot*100)\n",
    "    \n",
    "    wire_rate.append(len(wire_bkg[(wire_bkg['Ev_max_nWire_ME32'] > limit)])/wire_bkg_tot*30*1000)\n",
    "    \n",
    "    wire_limits.append(limit)\n",
    "    \n",
    "# plt.plot(wire_rate,wire_efficiency,'bo')\n",
    "# plt.xlim(0,l2)\n",
    "# plt.ylim(0,5)\n",
    "# plt.xlabel('Rate (kHz)')\n",
    "# plt.ylabel('Efficiency (%)')\n",
    "# plt.title('Wire ROC Curve for ME32')\n",
    "\n",
    "Make_ROC(wire_rate,wire_efficiency,\"wire_ME32\",l2,5)\n",
    "\n",
    "for i in range(len(wire_rate)):\n",
    "    if wire_rate[i] > 0.02 and wire_rate[i] < l2:\n",
    "        #print 'rate =', wire_rate[i], 'kHz and efficiency =', wire_efficiency[i], '% for threshold >', wire_limits[i]\n",
    "        if np.power(wire_efficiency[i],r2)/np.sqrt(wire_rate[i]) > best:\n",
    "            best = np.power(wire_efficiency[i],r2)/np.sqrt(wire_rate[i])\n",
    "            best_cut = wire_limits[i]\n",
    "        \n",
    "print \"Best threshold > %i\" %(best_cut)\n",
    "print 'rate =', wire_rate[best_cut+1], 'kHz and efficiency =', wire_efficiency[best_cut+1], '% for threshold >', wire_limits[best_cut+1]\n",
    "wire32 = best_cut"
   ]
  },
  {
   "cell_type": "code",
   "execution_count": 23,
   "metadata": {},
   "outputs": [
    {
     "name": "stderr",
     "output_type": "stream",
     "text": [
      "100%|██████████| 150/150 [00:01<00:00, 116.58it/s]"
     ]
    },
    {
     "name": "stdout",
     "output_type": "stream",
     "text": [
      "Best threshold > 126\n",
      "rate = 0.0285212131276 kHz and efficiency = 4.29874572406 % for threshold > 126\n"
     ]
    },
    {
     "name": "stderr",
     "output_type": "stream",
     "text": [
      "\n",
      "Warning in <TCanvas::Constructor>: Deleting canvas with same name: c2\n",
      "Info in <TCanvas::Print>: pdf file ROC_Curves/pdf/wire_ME41_prelim.pdf has been created\n"
     ]
    }
   ],
   "source": [
    "wire_efficiency=array('d')\n",
    "wire_sig_tot = len(wire_sig)\n",
    "wire_rate=array('d')\n",
    "wire_bkg_tot = len(wire_bkg)\n",
    "wire_limits=[0]\n",
    "best=0.0\n",
    "best_cut=150\n",
    "\n",
    "for limit in tqdm(xrange(min_,max_,it_)):\n",
    "    wire_efficiency.append(len(wire_sig[(wire_sig['Ev_max_nWire_ME41'] > limit)])/wire_sig_tot*100)\n",
    "    \n",
    "    wire_rate.append(len(wire_bkg[(wire_bkg['Ev_max_nWire_ME41'] > limit)])/wire_bkg_tot*30*1000)\n",
    "    \n",
    "    wire_limits.append(limit)\n",
    "    \n",
    "# plt.plot(wire_rate,wire_efficiency,'bo')\n",
    "# plt.xlim(0,l1)\n",
    "# plt.ylim(0,5)\n",
    "# plt.xlabel('Rate (kHz)')\n",
    "# plt.ylabel('Efficiency (%)')\n",
    "# plt.title('Wire ROC Curve for ME41')\n",
    "\n",
    "Make_ROC(wire_rate,wire_efficiency,\"wire_ME41\",l1,5)\n",
    "\n",
    "for i in range(len(wire_rate)):\n",
    "    if wire_rate[i] > 0.02 and wire_rate[i] < l1:\n",
    "        #print 'rate =', wire_rate[i], 'kHz and efficiency =', wire_efficiency[i], '% for threshold >', wire_limits[i]\n",
    "        if np.power(wire_efficiency[i],r1)/np.sqrt(wire_rate[i]) > best:\n",
    "            best = np.power(wire_efficiency[i],r1)/np.sqrt(wire_rate[i])\n",
    "            best_cut = wire_limits[i]\n",
    "        \n",
    "print \"Best threshold > %i\" %(best_cut)\n",
    "print 'rate =', wire_rate[best_cut+1], 'kHz and efficiency =', wire_efficiency[best_cut+1], '% for threshold >', wire_limits[best_cut+1]\n",
    "wire41 = best_cut"
   ]
  },
  {
   "cell_type": "code",
   "execution_count": 24,
   "metadata": {},
   "outputs": [
    {
     "name": "stderr",
     "output_type": "stream",
     "text": [
      "100%|██████████| 150/150 [00:01<00:00, 143.72it/s]"
     ]
    },
    {
     "name": "stdout",
     "output_type": "stream",
     "text": [
      "Best threshold > 87\n",
      "rate = 0.0760565683403 kHz and efficiency = 2.47862029647 % for threshold > 87\n"
     ]
    },
    {
     "name": "stderr",
     "output_type": "stream",
     "text": [
      "\n",
      "Info in <TCanvas::Print>: pdf file ROC_Curves/pdf/wire_ME42_prelim.pdf has been created\n"
     ]
    }
   ],
   "source": [
    "wire_efficiency=array('d')\n",
    "wire_sig_tot = len(wire_sig)\n",
    "wire_rate=array('d')\n",
    "wire_bkg_tot = len(wire_bkg)\n",
    "wire_limits=[0]\n",
    "best=0.0\n",
    "best_cut=150\n",
    "\n",
    "for limit in tqdm(xrange(min_,max_,it_)):\n",
    "    wire_efficiency.append(len(wire_sig[(wire_sig['Ev_max_nWire_ME42'] > limit)])/wire_sig_tot*100)\n",
    "    \n",
    "    wire_rate.append(len(wire_bkg[(wire_bkg['Ev_max_nWire_ME42'] > limit)])/wire_bkg_tot*30*1000)\n",
    "    \n",
    "    wire_limits.append(limit)\n",
    "    \n",
    "# plt.plot(wire_rate,wire_efficiency,'bo')\n",
    "# plt.xlim(0,l2)\n",
    "# plt.ylim(0,5)\n",
    "# plt.xlabel('Rate (kHz)')\n",
    "# plt.ylabel('Efficiency (%)')\n",
    "# plt.title('Wire ROC Curve for ME42')\n",
    "\n",
    "Make_ROC(wire_rate,wire_efficiency,\"wire_ME42\",l2,5)\n",
    "\n",
    "for i in range(len(wire_rate)):\n",
    "    if wire_rate[i] > 0.02 and wire_rate[i] < l2:\n",
    "        #print 'rate =', wire_rate[i], 'kHz and efficiency =', wire_efficiency[i], '% for threshold >', wire_limits[i]\n",
    "        if np.power(wire_efficiency[i],r2)/np.sqrt(wire_rate[i]) > best:\n",
    "            best = np.power(wire_efficiency[i],r2)/np.sqrt(wire_rate[i])\n",
    "            best_cut = wire_limits[i]\n",
    "        \n",
    "print \"Best threshold > %i\" %(best_cut)\n",
    "print 'rate =', wire_rate[best_cut+1], 'kHz and efficiency =', wire_efficiency[best_cut+1], '% for threshold >', wire_limits[best_cut+1]\n",
    "wire42 = best_cut"
   ]
  },
  {
   "cell_type": "code",
   "execution_count": 25,
   "metadata": {},
   "outputs": [
    {
     "name": "stdout",
     "output_type": "stream",
     "text": [
      "rate = 0.760565683403 kHz, efficiency = 24.3500570125 %\n"
     ]
    }
   ],
   "source": [
    "# wire11, wire12, wire13 = 94, 101, 40\n",
    "# wire21, wire22 = 128, 83\n",
    "# wire31, wire32 = 117, 79\n",
    "# wire41, wire42 = 121, 90\n",
    "\n",
    "wire11, wire12, wire13 = 103, 105, 40\n",
    "wire21, wire22 = 131, 82\n",
    "wire31, wire32 = 122, 75\n",
    "wire41, wire42 = 118, 85\n",
    "\n",
    "efficiency_wire_final = len(wire_sig[(wire_sig['Ev_max_nWire_ME11'] > wire11) | (wire_sig['Ev_max_nWire_ME12'] > wire12) | (wire_sig['Ev_max_nWire_ME13'] > wire13) |\n",
    "                                     (wire_sig['Ev_max_nWire_ME21'] > wire21) | (wire_sig['Ev_max_nWire_ME22'] > wire22) |\n",
    "                                     (wire_sig['Ev_max_nWire_ME31'] > wire31) | (wire_sig['Ev_max_nWire_ME32'] > wire32) |\n",
    "                                     (wire_sig['Ev_max_nWire_ME41'] > wire41) | (wire_sig['Ev_max_nWire_ME42'] > wire42)])/wire_sig_tot*100\n",
    "                \n",
    "rate_wire_final       = len(wire_bkg[(wire_bkg['Ev_max_nWire_ME11'] > wire11) | (wire_bkg['Ev_max_nWire_ME12'] > wire12) | (wire_bkg['Ev_max_nWire_ME13'] > wire13) |\n",
    "                           (wire_bkg['Ev_max_nWire_ME21'] > wire21) | (wire_bkg['Ev_max_nWire_ME22'] > wire22) |\n",
    "                           (wire_bkg['Ev_max_nWire_ME31'] > wire31) | (wire_bkg['Ev_max_nWire_ME32'] > wire32) |\n",
    "                           (wire_bkg['Ev_max_nWire_ME41'] > wire41) | (wire_bkg['Ev_max_nWire_ME42'] > wire42)])/wire_bkg_tot*30*1000\n",
    "\n",
    "print \"rate =\", rate_wire_final, \"kHz, efficiency =\", efficiency_wire_final, \"%\""
   ]
  },
  {
   "cell_type": "markdown",
   "metadata": {},
   "source": [
    "# Results"
   ]
  },
  {
   "cell_type": "code",
   "execution_count": 26,
   "metadata": {},
   "outputs": [
    {
     "name": "stdout",
     "output_type": "stream",
     "text": [
      "Optimal Comparator Thresholds:\n",
      "ME11: 97, ME12: 55, ME13: 29,\n",
      "ME21: 48, ME22: 41,\n",
      "ME31: 48, ME32: 34,\n",
      "ME41: 41, ME42: 30,\n",
      "With rate and efficiency:\n",
      "rate = 0.734887 kHz, efficiency = 35.380993%\n",
      "\n",
      "Optimal Wire Thresholds:\n",
      "ME11: 103, ME12: 105, ME13: 40,\n",
      "ME21: 131, ME22: 82,\n",
      "ME31: 122, ME32: 75,\n",
      "ME41: 118, ME42: 85,\n",
      "With rate and efficiency:\n",
      "rate = 0.760566 kHz, efficiency = 24.350057%\n"
     ]
    }
   ],
   "source": [
    "print \"Optimal Comparator Thresholds:\"\n",
    "print \"ME11: %i, ME12: %i, ME13: %i,\" %(comp11,comp12,comp13)\n",
    "print \"ME21: %i, ME22: %i,\" %(comp21,comp22)\n",
    "print \"ME31: %i, ME32: %i,\" %(comp31,comp32)\n",
    "print \"ME41: %i, ME42: %i,\" %(comp41,comp42)\n",
    "print \"With rate and efficiency:\"\n",
    "print \"rate = %f kHz, efficiency = %f%%\" %(rate_comp_final,efficiency_comp_final)\n",
    "print\n",
    "print \"Optimal Wire Thresholds:\"\n",
    "print \"ME11: %i, ME12: %i, ME13: %i,\" %(wire11,wire12,wire13)\n",
    "print \"ME21: %i, ME22: %i,\" %(wire21,wire22)\n",
    "print \"ME31: %i, ME32: %i,\" %(wire31,wire32)\n",
    "print \"ME41: %i, ME42: %i,\" %(wire41,wire42)\n",
    "print \"With rate and efficiency:\"\n",
    "print \"rate = %f kHz, efficiency = %f%%\" %(rate_wire_final,efficiency_wire_final)"
   ]
  },
  {
   "cell_type": "code",
   "execution_count": null,
   "metadata": {},
   "outputs": [],
   "source": []
  }
 ],
 "metadata": {
  "kernelspec": {
   "display_name": "Python 2",
   "language": "python",
   "name": "python2"
  },
  "language_info": {
   "codemirror_mode": {
    "name": "ipython",
    "version": 2
   },
   "file_extension": ".py",
   "mimetype": "text/x-python",
   "name": "python",
   "nbconvert_exporter": "python",
   "pygments_lexer": "ipython2",
   "version": "2.7.15+"
  }
 },
 "nbformat": 4,
 "nbformat_minor": 2
}
