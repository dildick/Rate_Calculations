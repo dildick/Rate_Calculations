{
 "cells": [
  {
   "cell_type": "code",
   "execution_count": 1,
   "metadata": {},
   "outputs": [
    {
     "data": {
      "text/html": [
       "<style>.container { width:100% !important; }</style>"
      ],
      "text/plain": [
       "<IPython.core.display.HTML object>"
      ]
     },
     "metadata": {},
     "output_type": "display_data"
    }
   ],
   "source": [
    "import pandas as pd\n",
    "import numpy as np\n",
    "import uproot\n",
    "import matplotlib\n",
    "from matplotlib import pyplot as plt\n",
    "from __future__ import division\n",
    "from tqdm import tqdm\n",
    "\n",
    "from IPython.core.display import display, HTML\n",
    "display(HTML(\"<style>.container { width:100% !important; }</style>\"))\n",
    "\n",
    "normalize = False\n",
    "hard_cuts = True\n",
    "cut = 'tight'"
   ]
  },
  {
   "cell_type": "code",
   "execution_count": 2,
   "metadata": {},
   "outputs": [
    {
     "name": "stdout",
     "output_type": "stream",
     "text": [
      "Opening input files\n",
      "Opening file:  trees/MaxDigis_tree_HTo2LongLivedTo4q_MH_125_MFF_1_CTau_5000mm_TuneCP5_14TeV_pythia.root\n"
     ]
    }
   ],
   "source": [
    "in_dir = 'trees/'#box_selected/'\n",
    "\n",
    "input_bkg = ['trees/MaxDigis_tree_Data.root',]\n",
    "input_sig = [ #in_dir+'MaxDigis_tree_HTo2LongLivedTo4b_MH-125_MFF-25_CTau-15000mm_TuneCP5_14TeV_pythia8.root',\n",
    "              #in_dir+'MaxDigis_tree_HTo2LongLivedTo4b_MH-125_MFF-25_CTau-1500mm_TuneCP5_14TeV_pythia8.root',\n",
    "              #in_dir+'MaxDigis_tree_HTo2LongLivedTo4b_MH-125_MFF-12_CTau-9000mm_TuneCP5_14TeV_pythia8.root',\n",
    "              #in_dir+'MaxDigis_tree_HTo2LongLivedTo4b_MH-125_MFF-12_CTau-900mm_TuneCP5_14TeV_pythia8.root',\n",
    "              #in_dir+'MaxDigis_tree_HTo2LongLivedTo4b_MH-125_MFF-50_CTau-30000mm_TuneCP5_14TeV_pythia8.root',\n",
    "              #in_dir+'MaxDigis_tree_HTo2LongLivedTo4b_MH-125_MFF-50_CTau-3000mm_TuneCP5_14TeV_pythia8.root',\n",
    "              #in_dir+'MaxDigis_tree_HTo2LongLivedTo4b_MH-250_MFF-120_CTau-10000mm_TuneCP5_14TeV_pythia8.root',\n",
    "              #in_dir+'MaxDigis_tree_HTo2LongLivedTo4b_MH-250_MFF-120_CTau-1000mm_TuneCP5_14TeV_pythia8.root',\n",
    "              #in_dir+'MaxDigis_tree_HTo2LongLivedTo4b_MH-250_MFF-120_CTau-500mm_TuneCP5_14TeV_pythia8.root',\n",
    "              #in_dir+'MaxDigis_tree_HTo2LongLivedTo4b_MH-250_MFF-60_CTau-10000mm_TuneCP5_14TeV_pythia8.root',\n",
    "              #in_dir+'MaxDigis_tree_HTo2LongLivedTo4b_MH-250_MFF-60_CTau-500mm_TuneCP5_14TeV_pythia8.root',\n",
    "              #in_dir+'MaxDigis_tree_HTo2LongLivedTo4b_MH-350_MFF-160_CTau-10000mm_TuneCP5_14TeV_pythia8.root',\n",
    "              #in_dir+'MaxDigis_tree_HTo2LongLivedTo4b_MH-350_MFF-160_CTau-1000mm_TuneCP5_14TeV_pythia8.root',\n",
    "              #in_dir+'MaxDigis_tree_HTo2LongLivedTo4b_MH-350_MFF-160_CTau-500mm_TuneCP5_14TeV_pythia8.root',\n",
    "              #in_dir+'MaxDigis_tree_HTo2LongLivedTo4b_MH-350_MFF-80_CTau-10000mm_TuneCP5_14TeV_pythia8.root',\n",
    "              #in_dir+'MaxDigis_tree_HTo2LongLivedTo4b_MH-350_MFF-80_CTau-1000mm_TuneCP5_14TeV_pythia8.root',\n",
    "              #in_dir+'MaxDigis_tree_HTo2LongLivedTo4b_MH-350_MFF-80_CTau-500mm_TuneCP5_14TeV_pythia8.root',\n",
    "              #in_dir+'MaxDigis_tree_HTo2LongLivedTo4b_MH-1000_MFF-450_CTau-100000mm_TuneCP5_14TeV_pythia8.root',\n",
    "              #in_dir+'MaxDigis_tree_HTo2LongLivedTo4b_MH-1000_MFF-450_CTau-10000mm_TuneCP5_14TeV_pythia8.root',\n",
    "              #in_dir+'MaxDigis_tree_HTo2LongLivedTo4q_MH_125_MFF_1_CTau_10000mm_TuneCP5_14TeV_pythia.root',\n",
    "              in_dir+'MaxDigis_tree_HTo2LongLivedTo4q_MH_125_MFF_1_CTau_5000mm_TuneCP5_14TeV_pythia.root',\n",
    "             ]\n",
    "\n",
    "comp_treename = 'comparator'\n",
    "wire_treename = 'wire'\n",
    "\n",
    "comp_var = [ 'Ev_max_nComp_ME11','Ev_max_nComp_ME12','Ev_max_nComp_ME13','Ev_max_nComp_ME21','Ev_max_nComp_ME22',\n",
    "             'Ev_max_nComp_ME31','Ev_max_nComp_ME32','Ev_max_nComp_ME41','Ev_max_nComp_ME42']\n",
    "wire_var = [ 'Ev_max_nWire_ME11','Ev_max_nWire_ME12','Ev_max_nWire_ME13','Ev_max_nWire_ME21','Ev_max_nWire_ME22',\n",
    "             'Ev_max_nWire_ME31','Ev_max_nWire_ME32','Ev_max_nWire_ME41','Ev_max_nWire_ME42']\n",
    "\n",
    "comp_vars = list(set(comp_var))\n",
    "wire_vars = list(set(wire_var))\n",
    "\n",
    "arrs_comp_sig = [None]*(len(input_sig)+1)\n",
    "arrs_wire_sig = [None]*(len(input_sig)+1)\n",
    "\n",
    "print \"Opening input files\"\n",
    "\n",
    "print \"Opening file: \", input_sig[0]\n",
    "arrs_comp_sig[0] = uproot.open(input_sig[0])[comp_treename]\n",
    "arrs_wire_sig[0] = uproot.open(input_sig[0])[wire_treename]\n",
    "comp_sig = arrs_comp_sig[0].pandas.df(comp_vars)\n",
    "wire_sig = arrs_wire_sig[0].pandas.df(wire_vars)\n",
    "\n",
    "for i in range(1,len(input_sig)):\n",
    "    print \"Opening file: \", input_sig[i]\n",
    "    arrs_comp_sig[j] = uproot.open(input_sig[i])[comp_treename]\n",
    "    arrs_wire_sig[j] = uproot.open(input_sig[i])[wire_treename]\n",
    "    temp_comp_sig = arrs_comp_sig[i].pandas.df(comp_vars)\n",
    "    temp_wire_sig = arrs_wire_sig[i].pandas.df(wire_vars)\n",
    "    if normalize:\n",
    "        temp_comp_sig = temp_comp_sig.head(130)\n",
    "        temp_wire_sig = temp_wire_sig.head(130)\n",
    "    #print \"Comp num events = %i\" % (len(temp_comp_sig.index))\n",
    "    #print \"Wire num events = %i\" % (len(temp_wire_sig.index))\n",
    "    comp_sig = comp_sig.append(temp_comp_sig)\n",
    "    wire_sig = wire_sig.append(temp_wire_sig)\n",
    "\n",
    "#print \"Opening file: \", input_bkg[0]\n",
    "arrs_comp_bkg = uproot.open(input_bkg[0])[comp_treename]\n",
    "arrs_wire_bkg = uproot.open(input_bkg[0])[wire_treename]\n",
    "comp_bkg = arrs_comp_bkg.pandas.df(comp_vars)\n",
    "wire_bkg = arrs_wire_bkg.pandas.df(wire_vars)\n",
    "#print \"Number of bkg events: %i\" % (len(wire_bkg))\n",
    "#print \"Number of sig events: %i\" % (len(wire_sig))\n",
    "\n",
    "comp_sig_tot = len(comp_sig)\n",
    "wire_sig_tot = len(wire_sig)"
   ]
  },
  {
   "cell_type": "code",
   "execution_count": 3,
   "metadata": {},
   "outputs": [
    {
     "name": "stdout",
     "output_type": "stream",
     "text": [
      "File:  trees/MaxDigis_tree_HTo2LongLivedTo4q_MH_125_MFF_1_CTau_5000mm_TuneCP5_14TeV_pythia.root\n",
      "Loose cut\n",
      "Comparator Efficiency = 22.297297%\n",
      "Wire Efficiency = 12.903226%\n"
     ]
    }
   ],
   "source": [
    "#compXX = [ 98, 56, 30, 49, 42, 49, 35, 42, 31] #nominal\n",
    "#compXX = [99, 73, 31, 53, 46, 50, 36, 49, 36] #tight\n",
    "compXX = [99, 57, 25, 45, 36, 43, 29, 43, 32] #loose\n",
    "#wireXX = [104,  99, 32, 133, 83, 130, 74, 127, 88] #nominal\n",
    "#wireXX = [105, 102, 48,  134, 84,  131, 87,  128, 94] #tight\n",
    "wireXX = [105, 93, 33, 134, 80, 118, 75, 128, 87] #loose\n",
    "\n",
    "efficiency_comp_final = len(comp_sig[(comp_sig['Ev_max_nComp_ME11'] > compXX[0]) | (comp_sig['Ev_max_nComp_ME12'] > compXX[1]) | (comp_sig['Ev_max_nComp_ME13'] > compXX[2]) |\n",
    "                           (comp_sig['Ev_max_nComp_ME21'] > compXX[3]) | (comp_sig['Ev_max_nComp_ME22'] > compXX[4]) |\n",
    "                           (comp_sig['Ev_max_nComp_ME31'] > compXX[5]) | (comp_sig['Ev_max_nComp_ME32'] > compXX[6]) |\n",
    "                           (comp_sig['Ev_max_nComp_ME41'] > compXX[7]) | (comp_sig['Ev_max_nComp_ME41'] > compXX[8])])/comp_sig_tot*100\n",
    "efficiency_wire_final = len(wire_sig[(wire_sig['Ev_max_nWire_ME11'] > wireXX[0]) | (wire_sig['Ev_max_nWire_ME12'] > wireXX[1]) | (wire_sig['Ev_max_nWire_ME13'] > wireXX[2]) |\n",
    "                           (wire_sig['Ev_max_nWire_ME21'] > wireXX[3]) | (wire_sig['Ev_max_nWire_ME22'] > wireXX[4]) |\n",
    "                           (wire_sig['Ev_max_nWire_ME31'] > wireXX[5]) | (wire_sig['Ev_max_nWire_ME32'] > wireXX[6]) |\n",
    "                           (wire_sig['Ev_max_nWire_ME41'] > wireXX[7]) | (wire_sig['Ev_max_nWire_ME41'] > wireXX[8])])/wire_sig_tot*100\n",
    "\n",
    "print \"File: \", input_sig[0]\n",
    "print \"Loose cut\"\n",
    "print \"Comparator Efficiency = %f%%\" %(efficiency_comp_final)\n",
    "print \"Wire Efficiency = %f%%\" %(efficiency_wire_final)"
   ]
  },
  {
   "cell_type": "code",
   "execution_count": 4,
   "metadata": {},
   "outputs": [
    {
     "name": "stdout",
     "output_type": "stream",
     "text": [
      "File:  trees/MaxDigis_tree_HTo2LongLivedTo4q_MH_125_MFF_1_CTau_5000mm_TuneCP5_14TeV_pythia.root\n",
      "Nominal cut\n",
      "Comparator Efficiency = 21.621622%\n",
      "Wire Efficiency = 10.967742%\n"
     ]
    }
   ],
   "source": [
    "compXX = [ 98, 56, 30, 49, 42, 49, 35, 42, 31] #nominal\n",
    "#compXX = [99, 73, 31, 53, 46, 50, 36, 49, 36] #tight\n",
    "#compXX = [99, 57, 25, 45, 36, 43, 29, 43, 32] #loose\n",
    "wireXX = [104,  99, 32, 133, 83, 130, 74, 127, 88] #nominal\n",
    "#wireXX = [105, 102, 48,  134, 84,  131, 87,  128, 94] #tight\n",
    "#wireXX = [105, 93, 33, 134, 80, 118, 75, 128, 87] #loose\n",
    "\n",
    "efficiency_comp_final = len(comp_sig[(comp_sig['Ev_max_nComp_ME11'] > compXX[0]) | (comp_sig['Ev_max_nComp_ME12'] > compXX[1]) | (comp_sig['Ev_max_nComp_ME13'] > compXX[2]) |\n",
    "                           (comp_sig['Ev_max_nComp_ME21'] > compXX[3]) | (comp_sig['Ev_max_nComp_ME22'] > compXX[4]) |\n",
    "                           (comp_sig['Ev_max_nComp_ME31'] > compXX[5]) | (comp_sig['Ev_max_nComp_ME32'] > compXX[6]) |\n",
    "                           (comp_sig['Ev_max_nComp_ME41'] > compXX[7]) | (comp_sig['Ev_max_nComp_ME41'] > compXX[8])])/comp_sig_tot*100\n",
    "efficiency_wire_final = len(wire_sig[(wire_sig['Ev_max_nWire_ME11'] > wireXX[0]) | (wire_sig['Ev_max_nWire_ME12'] > wireXX[1]) | (wire_sig['Ev_max_nWire_ME13'] > wireXX[2]) |\n",
    "                           (wire_sig['Ev_max_nWire_ME21'] > wireXX[3]) | (wire_sig['Ev_max_nWire_ME22'] > wireXX[4]) |\n",
    "                           (wire_sig['Ev_max_nWire_ME31'] > wireXX[5]) | (wire_sig['Ev_max_nWire_ME32'] > wireXX[6]) |\n",
    "                           (wire_sig['Ev_max_nWire_ME41'] > wireXX[7]) | (wire_sig['Ev_max_nWire_ME41'] > wireXX[8])])/wire_sig_tot*100\n",
    "\n",
    "print \"File: \", input_sig[0]\n",
    "print \"Nominal cut\"\n",
    "print \"Comparator Efficiency = %f%%\" %(efficiency_comp_final)\n",
    "print \"Wire Efficiency = %f%%\" %(efficiency_wire_final)"
   ]
  },
  {
   "cell_type": "code",
   "execution_count": 5,
   "metadata": {},
   "outputs": [
    {
     "name": "stdout",
     "output_type": "stream",
     "text": [
      "File:  trees/MaxDigis_tree_HTo2LongLivedTo4q_MH_125_MFF_1_CTau_5000mm_TuneCP5_14TeV_pythia.root\n",
      "Tight cut\n",
      "Comparator Efficiency = 19.594595%\n",
      "Wire Efficiency = 9.032258%\n"
     ]
    }
   ],
   "source": [
    "#compXX = [ 98, 56, 30, 49, 42, 49, 35, 42, 31] #nominal\n",
    "compXX = [99, 73, 31, 53, 46, 50, 36, 49, 36] #tight\n",
    "#compXX = [99, 57, 25, 45, 36, 43, 29, 43, 32] #loose\n",
    "#wireXX = [104,  99, 32, 133, 83, 130, 74, 127, 88] #nominal\n",
    "wireXX = [105, 102, 48,  134, 84,  131, 87,  128, 94] #tight\n",
    "#wireXX = [105, 93, 33, 134, 80, 118, 75, 128, 87] #loose\n",
    "\n",
    "efficiency_comp_final = len(comp_sig[(comp_sig['Ev_max_nComp_ME11'] > compXX[0]) | (comp_sig['Ev_max_nComp_ME12'] > compXX[1]) | (comp_sig['Ev_max_nComp_ME13'] > compXX[2]) |\n",
    "                           (comp_sig['Ev_max_nComp_ME21'] > compXX[3]) | (comp_sig['Ev_max_nComp_ME22'] > compXX[4]) |\n",
    "                           (comp_sig['Ev_max_nComp_ME31'] > compXX[5]) | (comp_sig['Ev_max_nComp_ME32'] > compXX[6]) |\n",
    "                           (comp_sig['Ev_max_nComp_ME41'] > compXX[7]) | (comp_sig['Ev_max_nComp_ME41'] > compXX[8])])/comp_sig_tot*100\n",
    "efficiency_wire_final = len(wire_sig[(wire_sig['Ev_max_nWire_ME11'] > wireXX[0]) | (wire_sig['Ev_max_nWire_ME12'] > wireXX[1]) | (wire_sig['Ev_max_nWire_ME13'] > wireXX[2]) |\n",
    "                           (wire_sig['Ev_max_nWire_ME21'] > wireXX[3]) | (wire_sig['Ev_max_nWire_ME22'] > wireXX[4]) |\n",
    "                           (wire_sig['Ev_max_nWire_ME31'] > wireXX[5]) | (wire_sig['Ev_max_nWire_ME32'] > wireXX[6]) |\n",
    "                           (wire_sig['Ev_max_nWire_ME41'] > wireXX[7]) | (wire_sig['Ev_max_nWire_ME41'] > wireXX[8])])/wire_sig_tot*100\n",
    "\n",
    "print \"File: \", input_sig[0]\n",
    "print \"Tight cut\"\n",
    "print \"Comparator Efficiency = %f%%\" %(efficiency_comp_final)\n",
    "print \"Wire Efficiency = %f%%\" %(efficiency_wire_final)"
   ]
  }
 ],
 "metadata": {
  "kernelspec": {
   "display_name": "Python 2",
   "language": "python",
   "name": "python2"
  },
  "language_info": {
   "codemirror_mode": {
    "name": "ipython",
    "version": 2
   },
   "file_extension": ".py",
   "mimetype": "text/x-python",
   "name": "python",
   "nbconvert_exporter": "python",
   "pygments_lexer": "ipython2",
   "version": "2.7.15+"
  }
 },
 "nbformat": 4,
 "nbformat_minor": 2
}
